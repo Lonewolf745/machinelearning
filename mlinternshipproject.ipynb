{
  "nbformat": 4,
  "nbformat_minor": 0,
  "metadata": {
    "colab": {
      "name": "mlproject.ipynb",
      "provenance": [],
      "collapsed_sections": [],
      "toc_visible": true,
      "include_colab_link": true
    },
    "kernelspec": {
      "name": "python3",
      "display_name": "Python 3"
    }
  },
  "cells": [
    {
      "cell_type": "markdown",
      "metadata": {
        "id": "view-in-github",
        "colab_type": "text"
      },
      "source": [
        "<a href=\"https://colab.research.google.com/github/Lonewolf745/machinelearning/blob/master/mlinternshipproject.ipynb\" target=\"_parent\"><img src=\"https://colab.research.google.com/assets/colab-badge.svg\" alt=\"Open In Colab\"/></a>"
      ]
    },
    {
      "cell_type": "markdown",
      "metadata": {
        "id": "OvoTZmAPVmZN",
        "colab_type": "text"
      },
      "source": [
        "# **Exploratory Data Analysis of a Car showroom**"
      ]
    },
    {
      "cell_type": "markdown",
      "metadata": {
        "id": "iPHGLim-V_QX",
        "colab_type": "text"
      },
      "source": [
        "## 1.1 Importing the required libraries"
      ]
    },
    {
      "cell_type": "code",
      "metadata": {
        "id": "2QIDfXucQqYH",
        "colab_type": "code",
        "colab": {}
      },
      "source": [
        "#importing libraries\n",
        "import numpy as np\n",
        "import pandas as pd\n",
        "import matplotlib.pyplot as plt\n",
        "import seaborn as sns\n",
        "%matplotlib inline"
      ],
      "execution_count": null,
      "outputs": []
    },
    {
      "cell_type": "markdown",
      "metadata": {
        "id": "zBHwMMxEWhPd",
        "colab_type": "text"
      },
      "source": [
        "## 1.2 reading the data and underatanding the data"
      ]
    },
    {
      "cell_type": "code",
      "metadata": {
        "id": "utEfjnSTQ0vW",
        "colab_type": "code",
        "colab": {
          "base_uri": "https://localhost:8080/",
          "height": 202
        },
        "outputId": "630e77bf-7545-49b7-dd29-4e865f66e467"
      },
      "source": [
        "# reading data into the pandas as car_data\n",
        "car_data=pd.read_csv(\"/content/data.csv\")\n",
        "#reading the shape and checking the statistical summary\n",
        "car_data.describe(),car_data.shape"
      ],
      "execution_count": null,
      "outputs": [
        {
          "output_type": "execute_result",
          "data": {
            "text/plain": [
              "(               Year    Engine HP  ...    Popularity          MSRP\n",
              " count  11914.000000  11845.00000  ...  11914.000000  1.191400e+04\n",
              " mean    2010.384338    249.38607  ...   1554.911197  4.059474e+04\n",
              " std        7.579740    109.19187  ...   1441.855347  6.010910e+04\n",
              " min     1990.000000     55.00000  ...      2.000000  2.000000e+03\n",
              " 25%     2007.000000    170.00000  ...    549.000000  2.100000e+04\n",
              " 50%     2015.000000    227.00000  ...   1385.000000  2.999500e+04\n",
              " 75%     2016.000000    300.00000  ...   2009.000000  4.223125e+04\n",
              " max     2017.000000   1001.00000  ...   5657.000000  2.065902e+06\n",
              " \n",
              " [8 rows x 8 columns], (11914, 16))"
            ]
          },
          "metadata": {
            "tags": []
          },
          "execution_count": 27
        }
      ]
    },
    {
      "cell_type": "markdown",
      "metadata": {
        "id": "dn11v9RvW9zq",
        "colab_type": "text"
      },
      "source": [
        "## 2.Getting the basic information of data "
      ]
    },
    {
      "cell_type": "markdown",
      "metadata": {
        "id": "Y4ncfNMBXaKv",
        "colab_type": "text"
      },
      "source": [
        "**Here we will see the what is the datatype of each row and no of non null values.Also we can know the names of each coloumn**"
      ]
    },
    {
      "cell_type": "code",
      "metadata": {
        "id": "5Q0nTNDA_vYb",
        "colab_type": "code",
        "colab": {
          "base_uri": "https://localhost:8080/",
          "height": 403
        },
        "outputId": "728ee04f-6072-46ca-cace-30fb4fcca371"
      },
      "source": [
        "car_data.info()"
      ],
      "execution_count": null,
      "outputs": [
        {
          "output_type": "stream",
          "text": [
            "<class 'pandas.core.frame.DataFrame'>\n",
            "RangeIndex: 11914 entries, 0 to 11913\n",
            "Data columns (total 16 columns):\n",
            " #   Column             Non-Null Count  Dtype  \n",
            "---  ------             --------------  -----  \n",
            " 0   Make               11914 non-null  object \n",
            " 1   Model              11914 non-null  object \n",
            " 2   Year               11914 non-null  int64  \n",
            " 3   Engine Fuel Type   11911 non-null  object \n",
            " 4   Engine HP          11845 non-null  float64\n",
            " 5   Engine Cylinders   11884 non-null  float64\n",
            " 6   Transmission Type  11914 non-null  object \n",
            " 7   Driven_Wheels      11914 non-null  object \n",
            " 8   Number of Doors    11908 non-null  float64\n",
            " 9   Market Category    8172 non-null   object \n",
            " 10  Vehicle Size       11914 non-null  object \n",
            " 11  Vehicle Style      11914 non-null  object \n",
            " 12  highway MPG        11914 non-null  int64  \n",
            " 13  city mpg           11914 non-null  int64  \n",
            " 14  Popularity         11914 non-null  int64  \n",
            " 15  MSRP               11914 non-null  int64  \n",
            "dtypes: float64(3), int64(5), object(8)\n",
            "memory usage: 1.5+ MB\n"
          ],
          "name": "stdout"
        }
      ]
    },
    {
      "cell_type": "markdown",
      "metadata": {
        "id": "pcnLMEhJYWHd",
        "colab_type": "text"
      },
      "source": [
        "**By observing the non null values we can see that the column Market Catogery has the more number of null values.So it is better to drop out this column.And by observing the columns we can know that the number of rows and engine fuel type also didn't show impact on the model.So we can drop those as well**"
      ]
    },
    {
      "cell_type": "code",
      "metadata": {
        "id": "AjCGhS4IAJwz",
        "colab_type": "code",
        "colab": {
          "base_uri": "https://localhost:8080/",
          "height": 353
        },
        "outputId": "5be5717c-2bb0-406e-ec30-6aeb9e19c5ba"
      },
      "source": [
        "car_data=car_data.drop(columns=[\"Market Category\",\"Number of Doors\",\"Engine Fuel Type\"])\n",
        "car_data.info()"
      ],
      "execution_count": null,
      "outputs": [
        {
          "output_type": "stream",
          "text": [
            "<class 'pandas.core.frame.DataFrame'>\n",
            "RangeIndex: 11914 entries, 0 to 11913\n",
            "Data columns (total 13 columns):\n",
            " #   Column             Non-Null Count  Dtype  \n",
            "---  ------             --------------  -----  \n",
            " 0   Make               11914 non-null  object \n",
            " 1   Model              11914 non-null  object \n",
            " 2   Year               11914 non-null  int64  \n",
            " 3   Engine HP          11845 non-null  float64\n",
            " 4   Engine Cylinders   11884 non-null  float64\n",
            " 5   Transmission Type  11914 non-null  object \n",
            " 6   Driven_Wheels      11914 non-null  object \n",
            " 7   Vehicle Size       11914 non-null  object \n",
            " 8   Vehicle Style      11914 non-null  object \n",
            " 9   highway MPG        11914 non-null  int64  \n",
            " 10  city mpg           11914 non-null  int64  \n",
            " 11  Popularity         11914 non-null  int64  \n",
            " 12  MSRP               11914 non-null  int64  \n",
            "dtypes: float64(2), int64(5), object(6)\n",
            "memory usage: 1.2+ MB\n"
          ],
          "name": "stdout"
        }
      ]
    },
    {
      "cell_type": "markdown",
      "metadata": {
        "id": "PHtjP_-jZScr",
        "colab_type": "text"
      },
      "source": [
        "## 3.Renaming the columns"
      ]
    },
    {
      "cell_type": "code",
      "metadata": {
        "id": "oWDwz5qiE08Q",
        "colab_type": "code",
        "colab": {
          "base_uri": "https://localhost:8080/",
          "height": 353
        },
        "outputId": "590d2fd6-4920-4fe0-849e-97061a5d7056"
      },
      "source": [
        "car_data.rename(columns={'Engine HP':'HP','Engine Cylinders':'Cylinders','Transmission Type':'Transmission','Driven_Wheels':'Drive Mode','highway MPG':'MPG-H','city mpg':'MPG-C','MSRP':'Price'},inplace=True)\n",
        "car_data.info()"
      ],
      "execution_count": null,
      "outputs": [
        {
          "output_type": "stream",
          "text": [
            "<class 'pandas.core.frame.DataFrame'>\n",
            "RangeIndex: 11914 entries, 0 to 11913\n",
            "Data columns (total 13 columns):\n",
            " #   Column         Non-Null Count  Dtype  \n",
            "---  ------         --------------  -----  \n",
            " 0   Make           11914 non-null  object \n",
            " 1   Model          11914 non-null  object \n",
            " 2   Year           11914 non-null  int64  \n",
            " 3   HP             11845 non-null  float64\n",
            " 4   Cylinders      11884 non-null  float64\n",
            " 5   Transmission   11914 non-null  object \n",
            " 6   Drive Mode     11914 non-null  object \n",
            " 7   Vehicle Size   11914 non-null  object \n",
            " 8   Vehicle Style  11914 non-null  object \n",
            " 9   MPG-H          11914 non-null  int64  \n",
            " 10  MPG-C          11914 non-null  int64  \n",
            " 11  Popularity     11914 non-null  int64  \n",
            " 12  Price          11914 non-null  int64  \n",
            "dtypes: float64(2), int64(5), object(6)\n",
            "memory usage: 1.2+ MB\n"
          ],
          "name": "stdout"
        }
      ]
    },
    {
      "cell_type": "markdown",
      "metadata": {
        "id": "I3296OxvZp9K",
        "colab_type": "text"
      },
      "source": [
        "## 4.1 Checking for any duplicate values"
      ]
    },
    {
      "cell_type": "code",
      "metadata": {
        "id": "mg1bx6Fu1FO1",
        "colab_type": "code",
        "colab": {
          "base_uri": "https://localhost:8080/",
          "height": 252
        },
        "outputId": "4f258d55-68d6-49f5-ceb2-d6ec4f7ce20e"
      },
      "source": [
        "car_data_duplicate=car_data[car_data.duplicated()]\n",
        "car_data_duplicate,car_data_duplicate.shape"
      ],
      "execution_count": null,
      "outputs": [
        {
          "output_type": "execute_result",
          "data": {
            "text/plain": [
              "(         Make     Model  Year     HP  ...  MPG-H MPG-C Popularity  Price\n",
              " 14        BMW  1 Series  2013  230.0  ...     28    19       3916  31500\n",
              " 18       Audi       100  1992  172.0  ...     24    17       3105   2000\n",
              " 20       Audi       100  1992  172.0  ...     24    17       3105   2000\n",
              " 24       Audi       100  1993  172.0  ...     24    17       3105   2000\n",
              " 25       Audi       100  1993  172.0  ...     24    17       3105   2000\n",
              " ...       ...       ...   ...    ...  ...    ...   ...        ...    ...\n",
              " 11481  Suzuki      X-90  1998   95.0  ...     26    22        481   2000\n",
              " 11603   Volvo      XC60  2017  302.0  ...     29    20        870  46350\n",
              " 11604   Volvo      XC60  2017  240.0  ...     30    23        870  40950\n",
              " 11708  Suzuki       XL7  2008  252.0  ...     22    15        481  29149\n",
              " 11717  Suzuki       XL7  2008  252.0  ...     22    16        481  27499\n",
              " \n",
              " [792 rows x 13 columns], (792, 13))"
            ]
          },
          "metadata": {
            "tags": []
          },
          "execution_count": 31
        }
      ]
    },
    {
      "cell_type": "markdown",
      "metadata": {
        "id": "LycAoBwvZ-t1",
        "colab_type": "text"
      },
      "source": [
        "## 4.2 Removing the duplicates"
      ]
    },
    {
      "cell_type": "code",
      "metadata": {
        "id": "8O63rBOt6DRF",
        "colab_type": "code",
        "colab": {
          "base_uri": "https://localhost:8080/",
          "height": 353
        },
        "outputId": "5ef01b28-0c76-4aa1-ba75-75e6a9eaf084"
      },
      "source": [
        "car_data.drop_duplicates(inplace=True)\n",
        "car_data.info()"
      ],
      "execution_count": null,
      "outputs": [
        {
          "output_type": "stream",
          "text": [
            "<class 'pandas.core.frame.DataFrame'>\n",
            "Int64Index: 11122 entries, 0 to 11913\n",
            "Data columns (total 13 columns):\n",
            " #   Column         Non-Null Count  Dtype  \n",
            "---  ------         --------------  -----  \n",
            " 0   Make           11122 non-null  object \n",
            " 1   Model          11122 non-null  object \n",
            " 2   Year           11122 non-null  int64  \n",
            " 3   HP             11053 non-null  float64\n",
            " 4   Cylinders      11092 non-null  float64\n",
            " 5   Transmission   11122 non-null  object \n",
            " 6   Drive Mode     11122 non-null  object \n",
            " 7   Vehicle Size   11122 non-null  object \n",
            " 8   Vehicle Style  11122 non-null  object \n",
            " 9   MPG-H          11122 non-null  int64  \n",
            " 10  MPG-C          11122 non-null  int64  \n",
            " 11  Popularity     11122 non-null  int64  \n",
            " 12  Price          11122 non-null  int64  \n",
            "dtypes: float64(2), int64(5), object(6)\n",
            "memory usage: 1.2+ MB\n"
          ],
          "name": "stdout"
        }
      ]
    },
    {
      "cell_type": "markdown",
      "metadata": {
        "id": "XyZtQg7NaQXd",
        "colab_type": "text"
      },
      "source": [
        "## 4.3 Filling the nan values"
      ]
    },
    {
      "cell_type": "markdown",
      "metadata": {
        "id": "x4lyeVhuag0X",
        "colab_type": "text"
      },
      "source": [
        "**As we can see from the above info there are some nan values in the data.For constructing a machine learning model there should not be any nan value present in the data.We can remove the nan values.But instead of removing if we replace the nan valuesit gives more data for the machine model to give more accuracy**"
      ]
    },
    {
      "cell_type": "code",
      "metadata": {
        "id": "lQHecmaj6qfz",
        "colab_type": "code",
        "colab": {
          "base_uri": "https://localhost:8080/",
          "height": 353
        },
        "outputId": "f75c5f35-e70c-432f-8f06-40f79cbc3517"
      },
      "source": [
        "car_data.fillna(method='ffill',inplace=True)\n",
        "car_data.info()"
      ],
      "execution_count": null,
      "outputs": [
        {
          "output_type": "stream",
          "text": [
            "<class 'pandas.core.frame.DataFrame'>\n",
            "Int64Index: 11122 entries, 0 to 11913\n",
            "Data columns (total 13 columns):\n",
            " #   Column         Non-Null Count  Dtype  \n",
            "---  ------         --------------  -----  \n",
            " 0   Make           11122 non-null  object \n",
            " 1   Model          11122 non-null  object \n",
            " 2   Year           11122 non-null  int64  \n",
            " 3   HP             11122 non-null  float64\n",
            " 4   Cylinders      11122 non-null  float64\n",
            " 5   Transmission   11122 non-null  object \n",
            " 6   Drive Mode     11122 non-null  object \n",
            " 7   Vehicle Size   11122 non-null  object \n",
            " 8   Vehicle Style  11122 non-null  object \n",
            " 9   MPG-H          11122 non-null  int64  \n",
            " 10  MPG-C          11122 non-null  int64  \n",
            " 11  Popularity     11122 non-null  int64  \n",
            " 12  Price          11122 non-null  int64  \n",
            "dtypes: float64(2), int64(5), object(6)\n",
            "memory usage: 1.2+ MB\n"
          ],
          "name": "stdout"
        }
      ]
    },
    {
      "cell_type": "markdown",
      "metadata": {
        "id": "4uKHXJxic8ik",
        "colab_type": "text"
      },
      "source": [
        "## 5.Box plotting to check outliers and removing outliers"
      ]
    },
    {
      "cell_type": "code",
      "metadata": {
        "id": "l56OcS6u8xkM",
        "colab_type": "code",
        "colab": {
          "base_uri": "https://localhost:8080/",
          "height": 296
        },
        "outputId": "fd78d3b5-e060-4b67-a23d-7ccd81dcafc0"
      },
      "source": [
        "sns.boxplot(car_data['HP'])\n"
      ],
      "execution_count": null,
      "outputs": [
        {
          "output_type": "execute_result",
          "data": {
            "text/plain": [
              "<matplotlib.axes._subplots.AxesSubplot at 0x7f0bb42b3ba8>"
            ]
          },
          "metadata": {
            "tags": []
          },
          "execution_count": 34
        },
        {
          "output_type": "display_data",
          "data": {
            "image/png": "[encoded data removed]",
            "text/plain": [
              "<Figure size 432x288 with 1 Axes>"
            ]
          },
          "metadata": {
            "tags": [],
            "needs_background": "light"
          }
        }
      ]
    },
    {
      "cell_type": "code",
      "metadata": {
        "id": "HUB1b_M4xC7P",
        "colab_type": "code",
        "colab": {
          "base_uri": "https://localhost:8080/",
          "height": 296
        },
        "outputId": "8c14de6a-32d9-4c46-d1fc-c516165435d1"
      },
      "source": [
        "sns.boxplot(car_data['Cylinders'])"
      ],
      "execution_count": null,
      "outputs": [
        {
          "output_type": "execute_result",
          "data": {
            "text/plain": [
              "<matplotlib.axes._subplots.AxesSubplot at 0x7f0b9b1082b0>"
            ]
          },
          "metadata": {
            "tags": []
          },
          "execution_count": 35
        },
        {
          "output_type": "display_data",
          "data": {
            "image/png": "[encoded data removed]",
            "text/plain": [
              "<Figure size 432x288 with 1 Axes>"
            ]
          },
          "metadata": {
            "tags": [],
            "needs_background": "light"
          }
        }
      ]
    },
    {
      "cell_type": "code",
      "metadata": {
        "id": "dFqOHIUnxLey",
        "colab_type": "code",
        "colab": {
          "base_uri": "https://localhost:8080/",
          "height": 296
        },
        "outputId": "7d667eb3-2965-4a64-e69c-18191f4cf9b5"
      },
      "source": [
        "sns.boxplot(car_data['MPG-H'])"
      ],
      "execution_count": null,
      "outputs": [
        {
          "output_type": "execute_result",
          "data": {
            "text/plain": [
              "<matplotlib.axes._subplots.AxesSubplot at 0x7f0b9b343630>"
            ]
          },
          "metadata": {
            "tags": []
          },
          "execution_count": 36
        },
        {
          "output_type": "display_data",
          "data": {
            "image/png": "[encoded data removed]",
            "text/plain": [
              "<Figure size 432x288 with 1 Axes>"
            ]
          },
          "metadata": {
            "tags": [],
            "needs_background": "light"
          }
        }
      ]
    },
    {
      "cell_type": "code",
      "metadata": {
        "id": "ovVKFZD2xfLN",
        "colab_type": "code",
        "colab": {
          "base_uri": "https://localhost:8080/",
          "height": 296
        },
        "outputId": "581f81f2-c242-4731-c963-bde0ded9eca5"
      },
      "source": [
        "sns.boxplot(car_data['MPG-C'])"
      ],
      "execution_count": null,
      "outputs": [
        {
          "output_type": "execute_result",
          "data": {
            "text/plain": [
              "<matplotlib.axes._subplots.AxesSubplot at 0x7f0b9b108ef0>"
            ]
          },
          "metadata": {
            "tags": []
          },
          "execution_count": 37
        },
        {
          "output_type": "display_data",
          "data": {
            "image/png": "[encoded data removed]",
            "text/plain": [
              "<Figure size 432x288 with 1 Axes>"
            ]
          },
          "metadata": {
            "tags": [],
            "needs_background": "light"
          }
        }
      ]
    },
    {
      "cell_type": "code",
      "metadata": {
        "id": "TFgdFC8WxmJ1",
        "colab_type": "code",
        "colab": {
          "base_uri": "https://localhost:8080/",
          "height": 296
        },
        "outputId": "f60697e3-cd81-4818-b357-72cce0f72a5d"
      },
      "source": [
        "sns.boxplot(car_data['Popularity'])"
      ],
      "execution_count": null,
      "outputs": [
        {
          "output_type": "execute_result",
          "data": {
            "text/plain": [
              "<matplotlib.axes._subplots.AxesSubplot at 0x7f0b9b2924e0>"
            ]
          },
          "metadata": {
            "tags": []
          },
          "execution_count": 38
        },
        {
          "output_type": "display_data",
          "data": {
            "image/png": "[encoded data removed]",
            "text/plain": [
              "<Figure size 432x288 with 1 Axes>"
            ]
          },
          "metadata": {
            "tags": [],
            "needs_background": "light"
          }
        }
      ]
    },
    {
      "cell_type": "code",
      "metadata": {
        "id": "5fmGK7Zrx86t",
        "colab_type": "code",
        "colab": {
          "base_uri": "https://localhost:8080/",
          "height": 296
        },
        "outputId": "b484d6f0-700b-4067-dc57-7cf395a1f300"
      },
      "source": [
        "sns.boxplot(car_data['Price'])"
      ],
      "execution_count": null,
      "outputs": [
        {
          "output_type": "execute_result",
          "data": {
            "text/plain": [
              "<matplotlib.axes._subplots.AxesSubplot at 0x7f0b9b2428d0>"
            ]
          },
          "metadata": {
            "tags": []
          },
          "execution_count": 39
        },
        {
          "output_type": "display_data",
          "data": {
            "image/png": "[encoded data removed]",
            "text/plain": [
              "<Figure size 432x288 with 1 Axes>"
            ]
          },
          "metadata": {
            "tags": [],
            "needs_background": "light"
          }
        }
      ]
    },
    {
      "cell_type": "code",
      "metadata": {
        "id": "uabnGNXtyCnz",
        "colab_type": "code",
        "colab": {
          "base_uri": "https://localhost:8080/",
          "height": 34
        },
        "outputId": "41856ea9-d740-4fdc-d9d1-d70c1b124736"
      },
      "source": [
        "Q1=car_data.quantile(0.25)\n",
        "Q2=car_data.quantile(0.75)\n",
        "IQR=Q2-Q1\n",
        "car_data=car_data[~((car_data<(Q1-1.5*IQR))|(car_data>(Q2+1.5*IQR))).any(axis=1)]\n",
        "car_data.shape"
      ],
      "execution_count": null,
      "outputs": [
        {
          "output_type": "execute_result",
          "data": {
            "text/plain": [
              "(8576, 13)"
            ]
          },
          "metadata": {
            "tags": []
          },
          "execution_count": 40
        }
      ]
    },
    {
      "cell_type": "markdown",
      "metadata": {
        "id": "k05HEsHa96Nf",
        "colab_type": "text"
      },
      "source": [
        "## 6.Most represented car brands"
      ]
    },
    {
      "cell_type": "code",
      "metadata": {
        "id": "s5QqoSjH3up5",
        "colab_type": "code",
        "colab": {
          "base_uri": "https://localhost:8080/",
          "height": 607
        },
        "outputId": "0cda2b68-fbde-42f6-d9bb-706c1a59cde3"
      },
      "source": [
        "brand_count=car_data['Make'].value_counts()*100/sum(car_data['Make'].value_counts())\n",
        "popular_brands=brand_count.index[:10]\n",
        "plt.figure(figsize=(10,10))\n",
        "plt.bar(popular_brands,brand_count[0:10])\n",
        "plt.title('top car brands')\n",
        "plt.show()"
      ],
      "execution_count": null,
      "outputs": [
        {
          "output_type": "display_data",
          "data": {
            "image/png": "[encoded data removed]",
            "text/plain": [
              "<Figure size 720x720 with 1 Axes>"
            ]
          },
          "metadata": {
            "tags": [],
            "needs_background": "light"
          }
        }
      ]
    },
    {
      "cell_type": "code",
      "metadata": {
        "id": "6Frb0Pjh_PfA",
        "colab_type": "code",
        "colab": {
          "base_uri": "https://localhost:8080/",
          "height": 373
        },
        "outputId": "505f857d-d7bc-47b6-e10e-ac54f4f97dcf"
      },
      "source": [
        "avg_prices=car_data[['Make','Price']].loc[(car_data['Make']=='Chevrolet')|\n",
        "                                          (car_data['Make']=='Toyota')|\n",
        "                                          (car_data['Make']=='Volkswagen')|\n",
        "                                          (car_data['Make']=='Nissan')|\n",
        "                                          (car_data['Make']=='GMC')|\n",
        "                                          (car_data['Make']=='Dodge')|\n",
        "                                          (car_data['Make']=='Mazda')|\n",
        "                                          (car_data['Make']=='Honda')|\n",
        "                                          (car_data['Make']=='Suzuki')|\n",
        "                                          (car_data['Make']=='Infiniti')].groupby('Make').mean()\n",
        "avg_prices"
      ],
      "execution_count": null,
      "outputs": [
        {
          "output_type": "execute_result",
          "data": {
            "text/html": [
              "<div>\n",
              "<style scoped>\n",
              "    .dataframe tbody tr th:only-of-type {\n",
              "        vertical-align: middle;\n",
              "    }\n",
              "\n",
              "    .dataframe tbody tr th {\n",
              "        vertical-align: top;\n",
              "    }\n",
              "\n",
              "    .dataframe thead th {\n",
              "        text-align: right;\n",
              "    }\n",
              "</style>\n",
              "<table border=\"1\" class=\"dataframe\">\n",
              "  <thead>\n",
              "    <tr style=\"text-align: right;\">\n",
              "      <th></th>\n",
              "      <th>Price</th>\n",
              "    </tr>\n",
              "    <tr>\n",
              "      <th>Make</th>\n",
              "      <th></th>\n",
              "    </tr>\n",
              "  </thead>\n",
              "  <tbody>\n",
              "    <tr>\n",
              "      <th>Chevrolet</th>\n",
              "      <td>28207.045499</td>\n",
              "    </tr>\n",
              "    <tr>\n",
              "      <th>Dodge</th>\n",
              "      <td>26076.722353</td>\n",
              "    </tr>\n",
              "    <tr>\n",
              "      <th>GMC</th>\n",
              "      <td>33261.400853</td>\n",
              "    </tr>\n",
              "    <tr>\n",
              "      <th>Honda</th>\n",
              "      <td>27381.364611</td>\n",
              "    </tr>\n",
              "    <tr>\n",
              "      <th>Infiniti</th>\n",
              "      <td>43127.822981</td>\n",
              "    </tr>\n",
              "    <tr>\n",
              "      <th>Mazda</th>\n",
              "      <td>20830.670025</td>\n",
              "    </tr>\n",
              "    <tr>\n",
              "      <th>Nissan</th>\n",
              "      <td>28352.543860</td>\n",
              "    </tr>\n",
              "    <tr>\n",
              "      <th>Suzuki</th>\n",
              "      <td>18168.241888</td>\n",
              "    </tr>\n",
              "    <tr>\n",
              "      <th>Toyota</th>\n",
              "      <td>27769.421793</td>\n",
              "    </tr>\n",
              "    <tr>\n",
              "      <th>Volkswagen</th>\n",
              "      <td>29032.817476</td>\n",
              "    </tr>\n",
              "  </tbody>\n",
              "</table>\n",
              "</div>"
            ],
            "text/plain": [
              "                   Price\n",
              "Make                    \n",
              "Chevrolet   28207.045499\n",
              "Dodge       26076.722353\n",
              "GMC         33261.400853\n",
              "Honda       27381.364611\n",
              "Infiniti    43127.822981\n",
              "Mazda       20830.670025\n",
              "Nissan      28352.543860\n",
              "Suzuki      18168.241888\n",
              "Toyota      27769.421793\n",
              "Volkswagen  29032.817476"
            ]
          },
          "metadata": {
            "tags": []
          },
          "execution_count": 42
        }
      ]
    },
    {
      "cell_type": "markdown",
      "metadata": {
        "id": "PLXUWoBRq7xZ",
        "colab_type": "text"
      },
      "source": [
        "## 7.correlation matrix"
      ]
    },
    {
      "cell_type": "markdown",
      "metadata": {
        "id": "ttA6H6o5t9kW",
        "colab_type": "text"
      },
      "source": [
        "**plotting the correlation matrix**"
      ]
    },
    {
      "cell_type": "code",
      "metadata": {
        "id": "tIaTSDPjq4hv",
        "colab_type": "code",
        "colab": {
          "base_uri": "https://localhost:8080/",
          "height": 254
        },
        "outputId": "5e19463e-f88b-49df-969e-036fdde06012"
      },
      "source": [
        "car_data.corr()"
      ],
      "execution_count": null,
      "outputs": [
        {
          "output_type": "execute_result",
          "data": {
            "text/html": [
              "<div>\n",
              "<style scoped>\n",
              "    .dataframe tbody tr th:only-of-type {\n",
              "        vertical-align: middle;\n",
              "    }\n",
              "\n",
              "    .dataframe tbody tr th {\n",
              "        vertical-align: top;\n",
              "    }\n",
              "\n",
              "    .dataframe thead th {\n",
              "        text-align: right;\n",
              "    }\n",
              "</style>\n",
              "<table border=\"1\" class=\"dataframe\">\n",
              "  <thead>\n",
              "    <tr style=\"text-align: right;\">\n",
              "      <th></th>\n",
              "      <th>Year</th>\n",
              "      <th>HP</th>\n",
              "      <th>Cylinders</th>\n",
              "      <th>MPG-H</th>\n",
              "      <th>MPG-C</th>\n",
              "      <th>Popularity</th>\n",
              "      <th>Price</th>\n",
              "    </tr>\n",
              "  </thead>\n",
              "  <tbody>\n",
              "    <tr>\n",
              "      <th>Year</th>\n",
              "      <td>1.000000</td>\n",
              "      <td>0.325029</td>\n",
              "      <td>-0.106530</td>\n",
              "      <td>0.373126</td>\n",
              "      <td>0.335017</td>\n",
              "      <td>0.200499</td>\n",
              "      <td>0.592008</td>\n",
              "    </tr>\n",
              "    <tr>\n",
              "      <th>HP</th>\n",
              "      <td>0.325029</td>\n",
              "      <td>1.000000</td>\n",
              "      <td>0.733501</td>\n",
              "      <td>-0.452827</td>\n",
              "      <td>-0.554034</td>\n",
              "      <td>0.094568</td>\n",
              "      <td>0.745424</td>\n",
              "    </tr>\n",
              "    <tr>\n",
              "      <th>Cylinders</th>\n",
              "      <td>-0.106530</td>\n",
              "      <td>0.733501</td>\n",
              "      <td>1.000000</td>\n",
              "      <td>-0.691566</td>\n",
              "      <td>-0.746529</td>\n",
              "      <td>0.012499</td>\n",
              "      <td>0.388570</td>\n",
              "    </tr>\n",
              "    <tr>\n",
              "      <th>MPG-H</th>\n",
              "      <td>0.373126</td>\n",
              "      <td>-0.452827</td>\n",
              "      <td>-0.691566</td>\n",
              "      <td>1.000000</td>\n",
              "      <td>0.937005</td>\n",
              "      <td>0.094043</td>\n",
              "      <td>-0.120851</td>\n",
              "    </tr>\n",
              "    <tr>\n",
              "      <th>MPG-C</th>\n",
              "      <td>0.335017</td>\n",
              "      <td>-0.554034</td>\n",
              "      <td>-0.746529</td>\n",
              "      <td>0.937005</td>\n",
              "      <td>1.000000</td>\n",
              "      <td>0.082408</td>\n",
              "      <td>-0.196935</td>\n",
              "    </tr>\n",
              "    <tr>\n",
              "      <th>Popularity</th>\n",
              "      <td>0.200499</td>\n",
              "      <td>0.094568</td>\n",
              "      <td>0.012499</td>\n",
              "      <td>0.094043</td>\n",
              "      <td>0.082408</td>\n",
              "      <td>1.000000</td>\n",
              "      <td>0.112513</td>\n",
              "    </tr>\n",
              "    <tr>\n",
              "      <th>Price</th>\n",
              "      <td>0.592008</td>\n",
              "      <td>0.745424</td>\n",
              "      <td>0.388570</td>\n",
              "      <td>-0.120851</td>\n",
              "      <td>-0.196935</td>\n",
              "      <td>0.112513</td>\n",
              "      <td>1.000000</td>\n",
              "    </tr>\n",
              "  </tbody>\n",
              "</table>\n",
              "</div>"
            ],
            "text/plain": [
              "                Year        HP  Cylinders  ...     MPG-C  Popularity     Price\n",
              "Year        1.000000  0.325029  -0.106530  ...  0.335017    0.200499  0.592008\n",
              "HP          0.325029  1.000000   0.733501  ... -0.554034    0.094568  0.745424\n",
              "Cylinders  -0.106530  0.733501   1.000000  ... -0.746529    0.012499  0.388570\n",
              "MPG-H       0.373126 -0.452827  -0.691566  ...  0.937005    0.094043 -0.120851\n",
              "MPG-C       0.335017 -0.554034  -0.746529  ...  1.000000    0.082408 -0.196935\n",
              "Popularity  0.200499  0.094568   0.012499  ...  0.082408    1.000000  0.112513\n",
              "Price       0.592008  0.745424   0.388570  ... -0.196935    0.112513  1.000000\n",
              "\n",
              "[7 rows x 7 columns]"
            ]
          },
          "metadata": {
            "tags": []
          },
          "execution_count": 43
        }
      ]
    },
    {
      "cell_type": "markdown",
      "metadata": {
        "id": "ItAiPff9uGfL",
        "colab_type": "text"
      },
      "source": [
        "**plotting the heat map**"
      ]
    },
    {
      "cell_type": "code",
      "metadata": {
        "id": "PbJ4uMCYrVQe",
        "colab_type": "code",
        "colab": {
          "base_uri": "https://localhost:8080/",
          "height": 341
        },
        "outputId": "2bbbb9f1-42f4-48a4-ff62-33561e5a22e0"
      },
      "source": [
        "plt.figure(figsize=(10,5))\n",
        "sns.heatmap(car_data.corr(),annot=True)"
      ],
      "execution_count": null,
      "outputs": [
        {
          "output_type": "execute_result",
          "data": {
            "text/plain": [
              "<matplotlib.axes._subplots.AxesSubplot at 0x7f0b9b1828d0>"
            ]
          },
          "metadata": {
            "tags": []
          },
          "execution_count": 44
        },
        {
          "output_type": "display_data",
          "data": {
            "image/png": "[encoded data removed]",
            "text/plain": [
              "<Figure size 720x360 with 2 Axes>"
            ]
          },
          "metadata": {
            "tags": [],
            "needs_background": "light"
          }
        }
      ]
    },
    {
      "cell_type": "markdown",
      "metadata": {
        "id": "P27VxDVcs2wL",
        "colab_type": "text"
      },
      "source": [
        "**From the above heat map we can say that the price hily dependent on the HP, Cylinders and the manufactured year.**\n",
        "\n",
        "i.e if the HP and NO of Cylinders are high then the price of the car is also high.\n",
        "\n",
        "**similarly HP and cylinders are also highly correlated.**\n",
        "\n",
        "i.e if the no of cylinders are increased the HP is also increased."
      ]
    },
    {
      "cell_type": "markdown",
      "metadata": {
        "id": "mkK2qex-xxmC",
        "colab_type": "text"
      },
      "source": [
        "### **anti correlation**\n",
        "\n",
        "Here the Cylinders and MPG-C have high anti correlation"
      ]
    },
    {
      "cell_type": "markdown",
      "metadata": {
        "id": "BxgGw07ssIPB",
        "colab_type": "text"
      },
      "source": [
        "## 8.Plotting different graphs"
      ]
    },
    {
      "cell_type": "code",
      "metadata": {
        "id": "JORREK1trmQr",
        "colab_type": "code",
        "colab": {
          "base_uri": "https://localhost:8080/",
          "height": 623
        },
        "outputId": "ab997f60-a74d-41c8-bf76-647727bc08b8"
      },
      "source": [
        "plt.figure(figsize=(10,10))\n",
        "sns.barplot(car_data['Price'],car_data['HP'])"
      ],
      "execution_count": null,
      "outputs": [
        {
          "output_type": "execute_result",
          "data": {
            "text/plain": [
              "<matplotlib.axes._subplots.AxesSubplot at 0x7f0b91e53908>"
            ]
          },
          "metadata": {
            "tags": []
          },
          "execution_count": 53
        },
        {
          "output_type": "display_data",
          "data": {
            "image/png": "[encoded data removed]",
            "text/plain": [
              "<Figure size 720x720 with 1 Axes>"
            ]
          },
          "metadata": {
            "tags": [],
            "needs_background": "light"
          }
        }
      ]
    },
    {
      "cell_type": "code",
      "metadata": {
        "id": "YTTO7gQ4uXgO",
        "colab_type": "code",
        "colab": {
          "base_uri": "https://localhost:8080/",
          "height": 623
        },
        "outputId": "df4c3d5b-c2fe-4402-f64d-ff45f15ce98d"
      },
      "source": [
        "plt.figure(figsize=(10,10))\n",
        "sns.barplot(car_data['Year'],car_data['Price'])"
      ],
      "execution_count": null,
      "outputs": [
        {
          "output_type": "execute_result",
          "data": {
            "text/plain": [
              "<matplotlib.axes._subplots.AxesSubplot at 0x7f0b91969f60>"
            ]
          },
          "metadata": {
            "tags": []
          },
          "execution_count": 55
        },
        {
          "output_type": "display_data",
          "data": {
            "image/png": "[encoded data removed]",
            "text/plain": [
              "<Figure size 720x720 with 1 Axes>"
            ]
          },
          "metadata": {
            "tags": [],
            "needs_background": "light"
          }
        }
      ]
    },
    {
      "cell_type": "code",
      "metadata": {
        "id": "l47WffyI3Dn8",
        "colab_type": "code",
        "colab": {
          "base_uri": "https://localhost:8080/",
          "height": 623
        },
        "outputId": "1626e800-671a-4ff6-de8d-5f475601586c"
      },
      "source": [
        "plt.figure(figsize=(10,10))\n",
        "sns.barplot(car_data['MPG-H'],car_data['Price'])"
      ],
      "execution_count": null,
      "outputs": [
        {
          "output_type": "execute_result",
          "data": {
            "text/plain": [
              "<matplotlib.axes._subplots.AxesSubplot at 0x7f0b870ae860>"
            ]
          },
          "metadata": {
            "tags": []
          },
          "execution_count": 63
        },
        {
          "output_type": "display_data",
          "data": {
            "image/png": "[encoded data removed]",
            "text/plain": [
              "<Figure size 720x720 with 1 Axes>"
            ]
          },
          "metadata": {
            "tags": [],
            "needs_background": "light"
          }
        }
      ]
    },
    {
      "cell_type": "code",
      "metadata": {
        "id": "nvJNtbvh3JX9",
        "colab_type": "code",
        "colab": {
          "base_uri": "https://localhost:8080/",
          "height": 623
        },
        "outputId": "85c60395-2e9e-4a94-a277-c9ce92224e89"
      },
      "source": [
        "plt.figure(figsize=(10,10))\n",
        "sns.barplot(car_data['MPG-C'],car_data['Price'])"
      ],
      "execution_count": null,
      "outputs": [
        {
          "output_type": "execute_result",
          "data": {
            "text/plain": [
              "<matplotlib.axes._subplots.AxesSubplot at 0x7f0b874b37b8>"
            ]
          },
          "metadata": {
            "tags": []
          },
          "execution_count": 62
        },
        {
          "output_type": "display_data",
          "data": {
            "image/png": "[encoded data removed]",
            "text/plain": [
              "<Figure size 720x720 with 1 Axes>"
            ]
          },
          "metadata": {
            "tags": [],
            "needs_background": "light"
          }
        }
      ]
    },
    {
      "cell_type": "code",
      "metadata": {
        "id": "LBZblLhPIZOX",
        "colab_type": "code",
        "colab": {
          "base_uri": "https://localhost:8080/",
          "height": 623
        },
        "outputId": "0c1a773a-5367-4b6d-f097-06b4dea3877b"
      },
      "source": [
        "plt.figure(figsize=(10,10))\n",
        "sns.barplot(car_data['Cylinders'],car_data['Price'])"
      ],
      "execution_count": null,
      "outputs": [
        {
          "output_type": "execute_result",
          "data": {
            "text/plain": [
              "<matplotlib.axes._subplots.AxesSubplot at 0x7f0b871e5400>"
            ]
          },
          "metadata": {
            "tags": []
          },
          "execution_count": 58
        },
        {
          "output_type": "display_data",
          "data": {
            "image/png": "[encoded data removed]",
            "text/plain": [
              "<Figure size 720x720 with 1 Axes>"
            ]
          },
          "metadata": {
            "tags": [],
            "needs_background": "light"
          }
        }
      ]
    },
    {
      "cell_type": "markdown",
      "metadata": {
        "id": "hxbCnRP3J7wD",
        "colab_type": "text"
      },
      "source": [
        "**From the above plots we can conclude that all the variables such as Year,Cylinders,MPG-H,MPG-C and Hp have an effect on the required output variable Price.**\n",
        "\n",
        "Where the variables such as Year,Cylinders, HP have an direct relation with the Price where as the variables such as MPG-H,MPG-C has inverse correlation with the Price"
      ]
    },
    {
      "cell_type": "markdown",
      "metadata": {
        "id": "g3I-I4ZNLEad",
        "colab_type": "text"
      },
      "source": [
        "## 9.Developing a Machine Learning model"
      ]
    },
    {
      "cell_type": "code",
      "metadata": {
        "id": "589z5oB6Ipz2",
        "colab_type": "code",
        "colab": {
          "base_uri": "https://localhost:8080/",
          "height": 151
        },
        "outputId": "8d4b635a-bf38-4d57-a41f-3a24eb2393a7"
      },
      "source": [
        "X=car_data[['Popularity','HP','Cylinders','MPG-C','MPG-H','Year']].values\n",
        "y=car_data['Price'].values\n",
        "X,y"
      ],
      "execution_count": null,
      "outputs": [
        {
          "output_type": "execute_result",
          "data": {
            "text/plain": [
              "(array([[3916.,  335.,    6.,   19.,   26., 2011.],\n",
              "        [3916.,  300.,    6.,   19.,   28., 2011.],\n",
              "        [3916.,  300.,    6.,   20.,   28., 2011.],\n",
              "        ...,\n",
              "        [ 204.,  300.,    6.,   16.,   23., 2012.],\n",
              "        [ 204.,  300.,    6.,   16.,   23., 2013.],\n",
              "        [  61.,  221.,    6.,   17.,   26., 2006.]]),\n",
              " array([46135, 40650, 36350, ..., 50620, 50920, 28995]))"
            ]
          },
          "metadata": {
            "tags": []
          },
          "execution_count": 67
        }
      ]
    },
    {
      "cell_type": "code",
      "metadata": {
        "id": "624KsMM6MbMN",
        "colab_type": "code",
        "colab": {
          "base_uri": "https://localhost:8080/",
          "height": 336
        },
        "outputId": "d62909ac-fb57-48f8-af1c-00425640a34a"
      },
      "source": [
        "from sklearn.preprocessing import StandardScaler\n",
        "s_X=StandardScaler()\n",
        "s_y=StandardScaler()\n",
        "X=s_X.fit_transform(X)\n",
        "y=s_y.fit_transform(y.reshape(-1,1))\n",
        "X,y"
      ],
      "execution_count": null,
      "outputs": [
        {
          "output_type": "execute_result",
          "data": {
            "text/plain": [
              "(array([[ 3.14123054,  1.3063416 ,  0.45420761, -0.10688012, -0.12934539,\n",
              "         -0.0415817 ],\n",
              "        [ 3.14123054,  0.85103543,  0.45420761, -0.10688012,  0.22527932,\n",
              "         -0.0415817 ],\n",
              "        [ 3.14123054,  0.85103543,  0.45420761,  0.12411885,  0.22527932,\n",
              "         -0.0415817 ],\n",
              "        ...,\n",
              "        [-1.15592145,  0.85103543,  0.45420761, -0.79987703, -0.66128246,\n",
              "          0.11690925],\n",
              "        [-1.15592145,  0.85103543,  0.45420761, -0.79987703, -0.66128246,\n",
              "          0.2754002 ],\n",
              "        [-1.32146367, -0.17665564,  0.45420761, -0.56887806, -0.12934539,\n",
              "         -0.83403644]]), array([[ 1.00569566],\n",
              "        [ 0.64330811],\n",
              "        [ 0.35921213],\n",
              "        ...,\n",
              "        [ 1.30201437],\n",
              "        [ 1.32183502],\n",
              "        [-0.12672413]]))"
            ]
          },
          "metadata": {
            "tags": []
          },
          "execution_count": 69
        }
      ]
    },
    {
      "cell_type": "code",
      "metadata": {
        "id": "5zoF842XN48f",
        "colab_type": "code",
        "colab": {
          "base_uri": "https://localhost:8080/",
          "height": 235
        },
        "outputId": "70ab1bff-224a-43f3-fbd1-2765f8440b14"
      },
      "source": [
        "from sklearn.model_selection import train_test_split\n",
        "X_train,X_test,y_train,y_test=train_test_split(X,y,test_size=0.2,random_state=0)\n",
        "X_test"
      ],
      "execution_count": null,
      "outputs": [
        {
          "output_type": "execute_result",
          "data": {
            "text/plain": [
              "array([[ 0.95908305, -0.69700555, -1.00115739,  0.12411885, -0.12934539,\n",
              "         0.2754002 ],\n",
              "       [-0.75653636,  0.65590422,  1.9095726 , -1.95487189, -1.90246895,\n",
              "         0.75087305],\n",
              "       [ 1.15703913,  0.56484298,  0.45420761,  0.12411885,  0.57990403,\n",
              "         0.2754002 ],\n",
              "       ...,\n",
              "       [-0.75653636,  0.65590422,  0.45420761, -0.33787909, -0.4839701 ,\n",
              "         0.75087305],\n",
              "       [ 0.48792441,  1.3063416 ,  0.45420761, -0.33787909,  0.04796696,\n",
              "         0.75087305],\n",
              "       [-1.21264571, -0.09860315,  0.45420761, -0.56887806, -0.12934539,\n",
              "        -0.20007265]])"
            ]
          },
          "metadata": {
            "tags": []
          },
          "execution_count": 71
        }
      ]
    },
    {
      "cell_type": "code",
      "metadata": {
        "id": "TLx1uiiqOu7Z",
        "colab_type": "code",
        "colab": {
          "base_uri": "https://localhost:8080/",
          "height": 34
        },
        "outputId": "bce2f0ba-db21-4617-dde6-f6ca34ceb046"
      },
      "source": [
        "from sklearn.linear_model import LinearRegression\n",
        "regressor=LinearRegression()\n",
        "regressor.fit(X_train,y_train)"
      ],
      "execution_count": null,
      "outputs": [
        {
          "output_type": "execute_result",
          "data": {
            "text/plain": [
              "LinearRegression(copy_X=True, fit_intercept=True, n_jobs=None, normalize=False)"
            ]
          },
          "metadata": {
            "tags": []
          },
          "execution_count": 72
        }
      ]
    },
    {
      "cell_type": "code",
      "metadata": {
        "id": "0qCx0bP8PTSL",
        "colab_type": "code",
        "colab": {
          "base_uri": "https://localhost:8080/",
          "height": 282
        },
        "outputId": "3936e9ad-e8ad-45f0-91b6-eadc19dd8e2b"
      },
      "source": [
        "y_pred=regressor.predict(X_test)\n",
        "plt.scatter(y_pred,y_test)"
      ],
      "execution_count": null,
      "outputs": [
        {
          "output_type": "execute_result",
          "data": {
            "text/plain": [
              "<matplotlib.collections.PathCollection at 0x7f0ba3c887f0>"
            ]
          },
          "metadata": {
            "tags": []
          },
          "execution_count": 76
        },
        {
          "output_type": "display_data",
          "data": {
            "image/png": "[encoded data removed]",
            "text/plain": [
              "<Figure size 432x288 with 1 Axes>"
            ]
          },
          "metadata": {
            "tags": [],
            "needs_background": "light"
          }
        }
      ]
    },
    {
      "cell_type": "code",
      "metadata": {
        "id": "5cmjOcq_PgPH",
        "colab_type": "code",
        "colab": {
          "base_uri": "https://localhost:8080/",
          "height": 283
        },
        "outputId": "ffac1615-4fa3-4481-8c9b-8e197efdd511"
      },
      "source": [
        "sns.distplot(y_test-y_pred,bins=50)"
      ],
      "execution_count": null,
      "outputs": [
        {
          "output_type": "execute_result",
          "data": {
            "text/plain": [
              "<matplotlib.axes._subplots.AxesSubplot at 0x7f0ba33d42b0>"
            ]
          },
          "metadata": {
            "tags": []
          },
          "execution_count": 77
        },
        {
          "output_type": "display_data",
          "data": {
            "image/png": "[encoded data removed]",
            "text/plain": [
              "<Figure size 432x288 with 1 Axes>"
            ]
          },
          "metadata": {
            "tags": [],
            "needs_background": "light"
          }
        }
      ]
    },
    {
      "cell_type": "code",
      "metadata": {
        "id": "kpYlciKqQWBO",
        "colab_type": "code",
        "colab": {
          "base_uri": "https://localhost:8080/",
          "height": 34
        },
        "outputId": "030a04e7-e442-4c04-f9cd-8e35eb5cdc95"
      },
      "source": [
        "from sklearn import metrics\n",
        "s=metrics.mean_absolute_error(y_test,y_pred)\n",
        "np.sqrt(s)"
      ],
      "execution_count": null,
      "outputs": [
        {
          "output_type": "execute_result",
          "data": {
            "text/plain": [
              "0.6602274781288096"
            ]
          },
          "metadata": {
            "tags": []
          },
          "execution_count": 80
        }
      ]
    },
    {
      "cell_type": "code",
      "metadata": {
        "id": "qP3TSgq-Rbds",
        "colab_type": "code",
        "colab": {
          "base_uri": "https://localhost:8080/",
          "height": 34
        },
        "outputId": "9f8fc1d2-698e-403a-8bed-9667044f4ce5"
      },
      "source": [
        "regressor.score(X_test,y_pred)"
      ],
      "execution_count": null,
      "outputs": [
        {
          "output_type": "execute_result",
          "data": {
            "text/plain": [
              "1.0"
            ]
          },
          "metadata": {
            "tags": []
          },
          "execution_count": 81
        }
      ]
    },
    {
      "cell_type": "code",
      "metadata": {
        "id": "twbGzqwzSSjZ",
        "colab_type": "code",
        "colab": {}
      },
      "source": [
        ""
      ],
      "execution_count": null,
      "outputs": []
    }
  ]
}